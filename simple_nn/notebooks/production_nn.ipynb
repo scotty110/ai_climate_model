{
 "cells": [
  {
   "cell_type": "markdown",
   "metadata": {},
   "source": [
    "# Simple NN"
   ]
  },
  {
   "cell_type": "markdown",
   "metadata": {},
   "source": [
    "Investigate a simple feedforward NN. Look at 1 layer then multi layer?"
   ]
  },
  {
   "cell_type": "code",
   "execution_count": 1,
   "metadata": {},
   "outputs": [],
   "source": [
    "import torch\n",
    "import torch.nn as nn\n",
    "import torch.optim as optim\n",
    "\n",
    "from torch.cuda.amp import autocast\n",
    "from torch.cuda.amp import GradScaler\n",
    "\n",
    "from os.path import join\n",
    "\n",
    "import sys\n",
    "sys.path.append('../')\n",
    "import utils"
   ]
  },
  {
   "cell_type": "code",
   "execution_count": 2,
   "metadata": {},
   "outputs": [],
   "source": [
    "assert torch.cuda.is_available(), 'CUDA is not available.'"
   ]
  },
  {
   "cell_type": "markdown",
   "metadata": {},
   "source": [
    "## Load Data"
   ]
  },
  {
   "cell_type": "code",
   "execution_count": 3,
   "metadata": {},
   "outputs": [],
   "source": [
    "fname = join('/home/squirt/Documents/data/weather_data/', 'all_data.h5')"
   ]
  },
  {
   "cell_type": "markdown",
   "metadata": {},
   "source": [
    "Set batchsize and partition. Create Dataloaders from h5 data. Use utils function"
   ]
  },
  {
   "cell_type": "code",
   "execution_count": 4,
   "metadata": {},
   "outputs": [],
   "source": [
    "batch_size = 2048 \n",
    "split = 0.5\n",
    "t_dl, v_dl = utils.get_dataloaders(fname, batch_size, split)"
   ]
  },
  {
   "cell_type": "markdown",
   "metadata": {},
   "source": [
    "## Define Model"
   ]
  },
  {
   "cell_type": "markdown",
   "metadata": {},
   "source": [
    "Simple FF net. Flatten input so $(3*2*2 + 70*2*2*2)=852$. And flatten output $(70*2*2*2)=560$."
   ]
  },
  {
   "cell_type": "code",
   "execution_count": 5,
   "metadata": {},
   "outputs": [],
   "source": [
    "class simpleNN(nn.Module):\n",
    "    def __init__(self):\n",
    "        super(simpleNN, self).__init__()\n",
    "        self.fc1 = nn.Linear(852,4096)\n",
    "        self.fc2 = nn.Linear(4096, 4096)\n",
    "        self.fc3 = nn.Linear(4096, 560)\n",
    "\n",
    "    def forward(self, x):\n",
    "        x = torch.relu(self.fc1(x))\n",
    "        x = torch.relu(self.fc2(x))\n",
    "        x = self.fc3(x)\n",
    "        return x"
   ]
  },
  {
   "cell_type": "markdown",
   "metadata": {},
   "source": [
    "## Define Training Loop "
   ]
  },
  {
   "cell_type": "markdown",
   "metadata": {},
   "source": [
    "Define training loop. Does one pass over data then returns average loss\n",
    "Inputs:\n",
    "    - model (nn.Module): Our Net that we want to optimize\n",
    "    - dl (torch.utils.data.DataLoader): Train dataloader\n",
    "    - optim (torch.optim): Optimizer to train\n",
    "    - loss (nn.Module): Loss function (can be nn.Module or nn.Function)\n",
    "Returns:\n",
    "    - Training loss on one pass\n"
   ]
  },
  {
   "cell_type": "code",
   "execution_count": 6,
   "metadata": {},
   "outputs": [],
   "source": [
    "\n",
    "def train(model:nn.Module, dl:torch.utils.data.DataLoader, optim:torch.optim, loss:nn.Module) -> float:\n",
    "    model.train()\n",
    "    total_loss = .0\n",
    "    scaler = GradScaler()\n",
    "\n",
    "    for _, (l, x, y) in enumerate(dl):\n",
    "        l = l.cuda()\n",
    "        x = x.cuda()\n",
    "        y = y.cuda()\n",
    "\n",
    "        # Flatten and combine\n",
    "        l = l.view(-1, 3*2*2)\n",
    "        x = x.view(-1, 70*3*2*2)\n",
    "        x = torch.cat((l, x), 1)\n",
    "\n",
    "        y = y.view(-1, 70*2*2*2)\n",
    "\n",
    "        # Forward pass\n",
    "        with autocast():\n",
    "            y_pred = model(x)\n",
    "            l = loss(y_pred, y)\n",
    "            total_loss += l.item()\n",
    "\n",
    "        # Preform backpass\n",
    "        scaler.scale(l).backward()\n",
    "        scaler.step(optim)\n",
    "        scaler.update()\n",
    "    \n",
    "    return total_loss / len(dl)"
   ]
  },
  {
   "cell_type": "markdown",
   "metadata": {},
   "source": [
    "Define eval loss loop. Does one pass over evaluation data and returns the average loss\n",
    "Inputs:\n",
    "    - model (nn.Module): Network that we are training\n",
    "    - dl (torch.utils.data.DataLoader): Eval dataloader"
   ]
  },
  {
   "cell_type": "code",
   "execution_count": 7,
   "metadata": {},
   "outputs": [],
   "source": [
    "def eval(model:nn.Module, dl:torch.utils.data.DataLoader, loss:nn.Module) -> float:\n",
    "    model.eval()\n",
    "    total_loss = .0\n",
    "\n",
    "    for _, (l, x, y) in enumerate(dl):\n",
    "        l = l.cuda()\n",
    "        x = x.cuda()\n",
    "        y = y.cuda()\n",
    "\n",
    "        # Flatten and combine\n",
    "        l = l.view(-1, 3*2*2)\n",
    "        x = x.view(-1, 70*3*2*2)\n",
    "        x = torch.cat((l, x), 1)\n",
    "\n",
    "        y = y.view(-1, 70*2*2*2)\n",
    "\n",
    "        # Forward pass\n",
    "        with autocast():\n",
    "            y_pred = model(x)\n",
    "            l = loss(y_pred, y)\n",
    "            total_loss += l.item()\n",
    "\n",
    "    return total_loss / len(dl)"
   ]
  },
  {
   "cell_type": "markdown",
   "metadata": {},
   "source": [
    "## Training"
   ]
  },
  {
   "cell_type": "code",
   "execution_count": 8,
   "metadata": {},
   "outputs": [],
   "source": [
    "loss_fn = nn.MSELoss()\n",
    "model = simpleNN()\n",
    "model = model.double().cuda()\n",
    "optimizer = optim.Adam(model.parameters(), lr=0.001)"
   ]
  },
  {
   "cell_type": "markdown",
   "metadata": {},
   "source": [
    "Early Stopping"
   ]
  },
  {
   "cell_type": "code",
   "execution_count": 9,
   "metadata": {},
   "outputs": [
    {
     "name": "stdout",
     "output_type": "stream",
     "text": [
      "Epoch 1 - Eval Loss: 401839.2971556643\n",
      "Epoch 2 - Eval Loss: 9745.142945767375\n",
      "Epoch 3 - Eval Loss: 1263.623579150259\n",
      "Epoch 4 - Eval Loss: 473.5684682326454\n",
      "Epoch 5 - Eval Loss: 197.84183653181023\n",
      "Epoch 6 - Eval Loss: 67.05986976414465\n",
      "Epoch 7 - Eval Loss: 25.45300772860413\n",
      "Epoch 8 - Eval Loss: 11.03458812740317\n",
      "Epoch 9 - Eval Loss: 5.665998574907411\n",
      "Epoch 10 - Eval Loss: 3.3612550906339806\n",
      "Epoch 11 - Eval Loss: 2.8662653200862778\n",
      "Epoch 12 - Eval Loss: 2.2793963496022944\n",
      "Epoch 13 - Eval Loss: 1.7336760701867129\n",
      "Epoch 14 - Eval Loss: 1.4612049707749413\n",
      "Epoch 15 - Eval Loss: 1.1852280266749224\n",
      "Epoch 16 - Eval Loss: 0.9620270036869145\n",
      "Epoch 17 - Eval Loss: 0.870104247061629\n",
      "Epoch 18 - Eval Loss: 0.7885044916522775\n",
      "Epoch 19 - Eval Loss: 0.7145633196618155\n",
      "Epoch 20 - Eval Loss: 0.6748528394582192\n",
      "Epoch 21 - Eval Loss: 0.608167704228038\n",
      "Epoch 22 - Eval Loss: 0.5691204955485508\n",
      "Epoch 23 - Eval Loss: 0.5237049784622044\n",
      "Epoch 24 - Eval Loss: 0.4810486019865691\n",
      "Epoch 25 - Eval Loss: 0.4464153430373437\n",
      "Epoch 26 - Eval Loss: 0.42694770209484617\n",
      "Epoch 27 - Eval Loss: 0.3994851994087221\n",
      "Epoch 28 - Eval Loss: 0.41093633400876595\n"
     ]
    }
   ],
   "source": [
    "eval_loss = -1*float('inf') \n",
    "train_loss  = float('inf') \n",
    "i = 0\n",
    "while train_loss > eval_loss:\n",
    "    i+=1\n",
    "    train_loss = train(model, t_dl, optimizer, loss_fn)\n",
    "    eval_loss = eval(model, v_dl, loss_fn)\n",
    "    print(f'Epoch {i} - Eval Loss: {eval_loss}')"
   ]
  },
  {
   "cell_type": "markdown",
   "metadata": {},
   "source": [
    "Cross fold validation"
   ]
  },
  {
   "cell_type": "code",
   "execution_count": 10,
   "metadata": {},
   "outputs": [],
   "source": [
    "folds = 5\n",
    "results_dict = {}\n",
    "for i in range(folds):\n",
    "    loss_fn = nn.MSELoss()\n",
    "    model = simpleNN()\n",
    "    model = model.double().cuda()\n",
    "    optimizer = optim.Adam(model.parameters(), lr=0.001)\n",
    "\n",
    "    # Early Stopping \n",
    "    eval_loss = -1*float('inf') \n",
    "    train_loss  = float('inf') \n",
    "    i = 0\n",
    "    train_loss_record = []\n",
    "    eval_loss_record = []\n",
    "    while train_loss > eval_loss:\n",
    "        i+=1\n",
    "        train_loss = train(model, t_dl, optimizer, loss_fn)\n",
    "        eval_loss = eval(model, v_dl, loss_fn)\n",
    "\n",
    "        train_loss_record.append(train_loss)\n",
    "        eval_loss_record.append(eval_loss)\n",
    "    results_dict[i] = (train_loss_record, eval_loss_record)\n"
   ]
  },
  {
   "cell_type": "markdown",
   "metadata": {},
   "source": [
    "## Graphing"
   ]
  },
  {
   "cell_type": "code",
   "execution_count": 38,
   "metadata": {},
   "outputs": [],
   "source": [
    "import numpy as np\n",
    "import matplotlib.pyplot as plt\n",
    "import copy\n",
    "\n",
    "rec_test = copy.deepcopy(results_dict)"
   ]
  },
  {
   "cell_type": "code",
   "execution_count": 37,
   "metadata": {},
   "outputs": [],
   "source": [
    "def plot_results(results:dict):\n",
    "    '''\n",
    "    Plot results on a log scale for better visualization, with error bars\n",
    "    Inputs:\n",
    "        - results: dict of results from the training loop (fold:(train_loss, eval_loss))\n",
    "    '''\n",
    "    # Get mean and std for each epoch as long as they exist\n",
    "    def create_epoch_dict(results:dict) -> dict:\n",
    "        epoch_dict = {}\n",
    "        e = 0\n",
    "        while True:\n",
    "            e+=1\n",
    "            try:\n",
    "                rec_test = np.array([results[i][1].pop(0) for i in results.keys()])\n",
    "                rec_train = np.array([results[i][0].pop(0) for i in results.keys()])\n",
    "                epoch_dict[e] = {\n",
    "                    'train': (np.mean(rec_train), np.std(rec_train)),\n",
    "                    'eval': (np.mean(rec_test), np.std(rec_test))\n",
    "                }\n",
    "            except:\n",
    "                raise ValueError('Results dict is not formatted correctly.')\n",
    "\n",
    "            for k in list(results.keys()):\n",
    "                if len(results[k][0]) == 0:\n",
    "                    del results[k]\n",
    "\n",
    "            if len(results.keys()) == 0:\n",
    "                break\n",
    "\n",
    "        return epoch_dict        \n",
    "    \n",
    "    # Create the epoch dict\n",
    "    error_dict = create_epoch_dict(results)\n",
    "\n",
    "    # Plot the results\n",
    "    labels = list(error_dict.keys())\n",
    "    \n",
    "    # Train\n",
    "    train_means = [error_dict[k]['train'][0] for k in error_dict.keys()]\n",
    "    train_std_devs = [error_dict[k]['train'][1] for k in error_dict.keys()]\n",
    "        \n",
    "    # eval \n",
    "    eval_means = [error_dict[k]['eval'][0] for k in error_dict.keys()]\n",
    "    eval_std_devs = [error_dict[k]['eval'][1] for k in error_dict.keys()]\n",
    "\n",
    "    # Set fig size so can read x axis\n",
    "    plt.figure(figsize=(20, 10))\n",
    "\n",
    "    # Plot training means with error bars\n",
    "    plt.errorbar(range(len(train_means)), train_means, yerr=train_std_devs, fmt='o', label='Train', ecolor='blue')\n",
    "\n",
    "    # Plot evaluation means with error bars\n",
    "    plt.errorbar(range(len(eval_means)), eval_means, yerr=eval_std_devs, fmt='o', label='Eval', ecolor='orange')\n",
    "\n",
    "    plt.xticks(range(len(labels)), labels)\n",
    "    plt.legend()\n",
    "\n",
    "    # Set scales\n",
    "    plt.yscale('log')\n",
    "    plt.tight_layout()\n",
    "\n",
    "    plt.show()\n",
    "    "
   ]
  },
  {
   "cell_type": "code",
   "execution_count": 39,
   "metadata": {},
   "outputs": [
    {
     "data": {
      "image/png": "[encoded data removed]",
      "text/plain": [
       "<Figure size 2000x1000 with 1 Axes>"
      ]
     },
     "metadata": {},
     "output_type": "display_data"
    }
   ],
   "source": [
    "plot_results(rec_test)"
   ]
  }
 ],
 "metadata": {
  "kernelspec": {
   "display_name": "climate",
   "language": "python",
   "name": "python3"
  },
  "language_info": {
   "codemirror_mode": {
    "name": "ipython",
    "version": 3
   },
   "file_extension": ".py",
   "mimetype": "text/x-python",
   "name": "python",
   "nbconvert_exporter": "python",
   "pygments_lexer": "ipython3",
   "version": "3.12.3"
  }
 },
 "nbformat": 4,
 "nbformat_minor": 2
}
