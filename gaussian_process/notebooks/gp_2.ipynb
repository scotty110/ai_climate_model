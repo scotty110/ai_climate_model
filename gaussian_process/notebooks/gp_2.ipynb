{
 "cells": [
  {
   "cell_type": "markdown",
   "metadata": {},
   "source": [
    "# GP"
   ]
  },
  {
   "cell_type": "markdown",
   "metadata": {},
   "source": [
    "What MSE does the GP achieve"
   ]
  },
  {
   "cell_type": "code",
   "execution_count": 1,
   "metadata": {},
   "outputs": [],
   "source": [
    "import torch\n",
    "\n",
    "import gpytorch\n",
    "from gpytorch.models import ExactGP\n",
    "from gpytorch.means import ConstantMean\n",
    "from gpytorch.kernels import RBFKernel\n",
    "from gpytorch.distributions import MultivariateNormal\n",
    "\n",
    "from os.path import join\n",
    "\n",
    "import sys\n",
    "sys.path.append('../')\n",
    "import utils"
   ]
  },
  {
   "cell_type": "code",
   "execution_count": 2,
   "metadata": {},
   "outputs": [],
   "source": [
    "assert torch.cuda.is_available(), 'CUDA is not available.'"
   ]
  },
  {
   "cell_type": "markdown",
   "metadata": {},
   "source": [
    "## Load Data"
   ]
  },
  {
   "cell_type": "code",
   "execution_count": 3,
   "metadata": {},
   "outputs": [],
   "source": [
    "fname = join('/home/squirt/Documents/data/weather_data/', 'all_data.h5')"
   ]
  },
  {
   "cell_type": "code",
   "execution_count": 4,
   "metadata": {},
   "outputs": [],
   "source": [
    "split = 0.5\n",
    "train_data, test_data = utils.get_data(fname, split)"
   ]
  },
  {
   "cell_type": "code",
   "execution_count": 5,
   "metadata": {},
   "outputs": [],
   "source": [
    "def combine_data(data_tuple:tuple[torch.tensor]) -> tuple[torch.tensor]:\n",
    "    '''\n",
    "    Add Landmass to x data. Return x,y tensors\n",
    "    Input:\n",
    "        - data_tuple (tuple[torch.tensor]): tuple of landmass,x,y tensors\n",
    "    '''\n",
    "    l,x,y = data_tuple\n",
    "\n",
    "    # Combine\n",
    "    l = l.unsqueeze(1)\n",
    "    x = torch.cat((l, x), 1)\n",
    "    x = x.contiguous()\n",
    "    y = y.contiguous()\n",
    "    return (x,y)"
   ]
  },
  {
   "cell_type": "code",
   "execution_count": 6,
   "metadata": {},
   "outputs": [],
   "source": [
    "train_data = combine_data(train_data)\n",
    "test_data = combine_data(test_data)"
   ]
  },
  {
   "cell_type": "code",
   "execution_count": 7,
   "metadata": {},
   "outputs": [],
   "source": [
    "x,y = train_data\n",
    "x = x.view(-1, 71*3*2*2)\n",
    "y = y.view(-1, 70*2*2*2)\n",
    "\n",
    "#x = x.cuda()\n",
    "#y = y.cuda()"
   ]
  },
  {
   "cell_type": "code",
   "execution_count": 8,
   "metadata": {},
   "outputs": [],
   "source": [
    "x_test, y_test = test_data\n",
    "x_test = x_test.view(-1, 71*3*2*2)\n",
    "y_test = y_test.view(-1, 70*2*2*2)\n",
    "\n",
    "#x_test = x_test.cuda()\n",
    "#y_test = y_test.cuda()"
   ]
  },
  {
   "cell_type": "markdown",
   "metadata": {},
   "source": [
    "## Define GP"
   ]
  },
  {
   "cell_type": "markdown",
   "metadata": {},
   "source": [
    "Define Model using gptorch"
   ]
  },
  {
   "cell_type": "code",
   "execution_count": 9,
   "metadata": {},
   "outputs": [],
   "source": [
    "'''\n",
    "class GaussianModel(gpytorch.models.ExactGP):\n",
    "    def __init__(self, likelihood):\n",
    "        # Initialize with None data - data will be set later\n",
    "        super(GaussianModel, self).__init__(None, None, likelihood)\n",
    "        self.mean_module = gpytorch.means.ConstantMean()\n",
    "        self.covar_module = gpytorch.kernels.RBFKernel()\n",
    "\n",
    "    def set_train_data(self, train_x, train_y):\n",
    "        self.train_inputs = (train_x,) \n",
    "        self.train_targets = train_y \n",
    "\n",
    "    def forward(self, x, ):\n",
    "        mean_x = self.mean_module(x)\n",
    "        covar_x = self.covar_module(x)\n",
    "        return gpytorch.distributions.MultivariateNormal(mean_x, covar_x)\n",
    "'''\n",
    "class MultitaskGaussianModel(gpytorch.models.ExactGP):\n",
    "    def __init__(self, train_x, train_y, likelihood):\n",
    "        super(MultitaskGaussianModel, self).__init__(train_x, train_y, likelihood)\n",
    "        self.mean_module = gpytorch.means.ConstantMean(batch_shape=torch.Size([train_y.shape[1]]))\n",
    "        self.covar_module = gpytorch.kernels.RBFKernel(batch_shape=torch.Size([train_y.shape[1]]))\n",
    "        self.task_covar_module = gpytorch.kernels.IndexKernel(num_tasks=train_y.shape[1], rank=1)\n",
    "\n",
    "    def forward(self, x):\n",
    "        mean_x = self.mean_module(x)\n",
    "        covar_x = self.covar_module(x)\n",
    "        task_indices = torch.arange(self.train_targets.shape[-1]).unsqueeze(0).repeat(x.shape[0], 1)\n",
    "        covar_task = self.task_covar_module(task_indices)\n",
    "        covar_x = covar_x.mul(covar_task)\n",
    "        return gpytorch.distributions.MultitaskMultivariateNormal.from_batch_shape(mean_x, covar_x)\n",
    "\n",
    "\n"
   ]
  },
  {
   "cell_type": "code",
   "execution_count": 10,
   "metadata": {},
   "outputs": [],
   "source": [
    "likelihood = gpytorch.likelihoods.MultitaskGaussianLikelihood(num_tasks=y.shape[1])\n",
    "#likelihood = likelihood.cuda()\n",
    "\n",
    "model = MultitaskGaussianModel(x, y, likelihood=likelihood)\n",
    "#model = model.cuda()\n",
    "\n",
    "mll = gpytorch.mlls.ExactMarginalLogLikelihood(likelihood, model)\n",
    "#mll = mll.cuda()"
   ]
  },
  {
   "cell_type": "markdown",
   "metadata": {},
   "source": [
    "## Train Model"
   ]
  },
  {
   "cell_type": "code",
   "execution_count": 11,
   "metadata": {},
   "outputs": [],
   "source": [
    "optimizer = torch.optim.Adam(model.parameters(), lr=1e-4)"
   ]
  },
  {
   "cell_type": "code",
   "execution_count": 12,
   "metadata": {},
   "outputs": [
    {
     "ename": "",
     "evalue": "",
     "output_type": "error",
     "traceback": [
      "\u001b[1;31mThe Kernel crashed while executing code in the current cell or a previous cell. \n",
      "\u001b[1;31mPlease review the code in the cell(s) to identify a possible cause of the failure. \n",
      "\u001b[1;31mClick <a href='https://aka.ms/vscodeJupyterKernelCrash'>here</a> for more info. \n",
      "\u001b[1;31mView Jupyter <a href='command:jupyter.viewOutput'>log</a> for further details."
     ]
    }
   ],
   "source": [
    "# Training loop\n",
    "model.set_train_data(x, y)\n",
    "likelihood.train()\n",
    "\n",
    "for epoch in range(10):\n",
    "    # Train Model\n",
    "    model.train()\n",
    "    optimizer.zero_grad()\n",
    "        \n",
    "    # This is a key part: call your model on a batch\n",
    "    output = model(x)\n",
    "    print(output.shape)\n",
    "    loss = -mll(output, y)\n",
    "    loss.backward()\n",
    "        \n",
    "    optimizer.step()\n",
    "    print('Here')\n",
    "\n",
    "    #Test Model\n",
    "    model.eval()\n",
    "    loss = torch.nn.functional.mse_loss(model(x_test).mean, y_test)\n",
    "    print(f'Epoch {epoch} - Loss: {loss}')"
   ]
  },
  {
   "cell_type": "code",
   "execution_count": null,
   "metadata": {},
   "outputs": [],
   "source": [
    "y.shape\n"
   ]
  }
 ],
 "metadata": {
  "kernelspec": {
   "display_name": "climate",
   "language": "python",
   "name": "python3"
  },
  "language_info": {
   "codemirror_mode": {
    "name": "ipython",
    "version": 3
   },
   "file_extension": ".py",
   "mimetype": "text/x-python",
   "name": "python",
   "nbconvert_exporter": "python",
   "pygments_lexer": "ipython3",
   "version": "3.12.3"
  }
 },
 "nbformat": 4,
 "nbformat_minor": 2
}
