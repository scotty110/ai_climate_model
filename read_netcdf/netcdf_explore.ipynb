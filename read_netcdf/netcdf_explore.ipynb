{
 "cells": [
  {
   "cell_type": "markdown",
   "metadata": {},
   "source": [
    "# NetCDF Explore"
   ]
  },
  {
   "cell_type": "code",
   "execution_count": 1,
   "metadata": {},
   "outputs": [],
   "source": [
    "import glob\n",
    "import re\n",
    "from netCDF4 import Dataset\n",
    "\n",
    "import pandas as pd\n",
    "\n",
    "from os.path import join"
   ]
  },
  {
   "cell_type": "markdown",
   "metadata": {},
   "source": [
    "## Get Files"
   ]
  },
  {
   "cell_type": "code",
   "execution_count": 2,
   "metadata": {},
   "outputs": [],
   "source": [
    "file_dir = '/home/squirt/Documents/data/rp_weather_data/scratch/frme/caramel_for_zenodo/20200102'\n",
    "to_get_path = join(file_dir, \"**/*.nc\")\n",
    "nc_files = glob.glob(to_get_path, recursive=True)"
   ]
  },
  {
   "cell_type": "code",
   "execution_count": 3,
   "metadata": {},
   "outputs": [
    {
     "data": {
      "text/plain": [
       "15360"
      ]
     },
     "execution_count": 3,
     "metadata": {},
     "output_type": "execute_result"
    }
   ],
   "source": [
    "len(nc_files)"
   ]
  },
  {
   "cell_type": "code",
   "execution_count": 4,
   "metadata": {},
   "outputs": [],
   "source": [
    "df = pd.DataFrame(nc_files, columns=['file_path'])\n",
    "\n",
    "# ChatGPT (so ???)\n",
    "def extract_parts(filename):\n",
    "    filename = re.sub(r'\\.nc$', '', filename)\n",
    "    # Split the string on _\n",
    "    filename_parts = re.split('_', filename)\n",
    "    filename_parts.remove('hence')\n",
    "    return filename_parts\n",
    "\n",
    "# Assuming df is your DataFrame and 'file_path' is the column with the filenames\n",
    "df[['date_time', 'region', 'grid_length', 'config', 'region_size', 'sampling', 'time', 'processing', 'code']] = df['file_path'].apply(lambda x: pd.Series(extract_parts(x.split('/')[-1])))\n"
   ]
  },
  {
   "cell_type": "code",
   "execution_count": 5,
   "metadata": {},
   "outputs": [
    {
     "data": {
      "text/plain": [
       "['/home/squirt/Documents/data/rp',\n",
       " 'weather',\n",
       " 'data/scratch/frme/caramel',\n",
       " 'for',\n",
       " 'zenodo/20200102/20200102T0000Z',\n",
       " 'r13',\n",
       " 'km1p5',\n",
       " 'RA2T',\n",
       " '224x224sampling',\n",
       " '2x2',\n",
       " 'time018',\n",
       " 'AVG',\n",
       " '16004']"
      ]
     },
     "execution_count": 5,
     "metadata": {},
     "output_type": "execute_result"
    }
   ],
   "source": [
    "extract_parts(nc_files[0])"
   ]
  },
  {
   "cell_type": "code",
   "execution_count": 6,
   "metadata": {},
   "outputs": [
    {
     "data": {
      "text/html": [
       "<div>\n",
       "<style scoped>\n",
       "    .dataframe tbody tr th:only-of-type {\n",
       "        vertical-align: middle;\n",
       "    }\n",
       "\n",
       "    .dataframe tbody tr th {\n",
       "        vertical-align: top;\n",
       "    }\n",
       "\n",
       "    .dataframe thead th {\n",
       "        text-align: right;\n",
       "    }\n",
       "</style>\n",
       "<table border=\"1\" class=\"dataframe\">\n",
       "  <thead>\n",
       "    <tr style=\"text-align: right;\">\n",
       "      <th></th>\n",
       "      <th>file_path</th>\n",
       "      <th>date_time</th>\n",
       "      <th>region</th>\n",
       "      <th>grid_length</th>\n",
       "      <th>config</th>\n",
       "      <th>region_size</th>\n",
       "      <th>sampling</th>\n",
       "      <th>time</th>\n",
       "      <th>processing</th>\n",
       "      <th>code</th>\n",
       "    </tr>\n",
       "  </thead>\n",
       "  <tbody>\n",
       "    <tr>\n",
       "      <th>0</th>\n",
       "      <td>/home/squirt/Documents/data/rp_weather_data/sc...</td>\n",
       "      <td>20200102T0000Z</td>\n",
       "      <td>r13</td>\n",
       "      <td>km1p5</td>\n",
       "      <td>RA2T</td>\n",
       "      <td>224x224sampling</td>\n",
       "      <td>2x2</td>\n",
       "      <td>time018</td>\n",
       "      <td>AVG</td>\n",
       "      <td>16004</td>\n",
       "    </tr>\n",
       "    <tr>\n",
       "      <th>1</th>\n",
       "      <td>/home/squirt/Documents/data/rp_weather_data/sc...</td>\n",
       "      <td>20200102T0000Z</td>\n",
       "      <td>r34</td>\n",
       "      <td>km1p5</td>\n",
       "      <td>RA2T</td>\n",
       "      <td>224x224sampling</td>\n",
       "      <td>2x2</td>\n",
       "      <td>time005</td>\n",
       "      <td>STD</td>\n",
       "      <td>16004</td>\n",
       "    </tr>\n",
       "    <tr>\n",
       "      <th>2</th>\n",
       "      <td>/home/squirt/Documents/data/rp_weather_data/sc...</td>\n",
       "      <td>20200102T0000Z</td>\n",
       "      <td>r32</td>\n",
       "      <td>km1p5</td>\n",
       "      <td>RA2T</td>\n",
       "      <td>224x224sampling</td>\n",
       "      <td>2x2</td>\n",
       "      <td>time023</td>\n",
       "      <td>AVG</td>\n",
       "      <td>00408</td>\n",
       "    </tr>\n",
       "    <tr>\n",
       "      <th>3</th>\n",
       "      <td>/home/squirt/Documents/data/rp_weather_data/sc...</td>\n",
       "      <td>20200102T0000Z</td>\n",
       "      <td>r75</td>\n",
       "      <td>km1p5</td>\n",
       "      <td>RA2T</td>\n",
       "      <td>224x224sampling</td>\n",
       "      <td>2x2</td>\n",
       "      <td>time001</td>\n",
       "      <td>STD</td>\n",
       "      <td>00033</td>\n",
       "    </tr>\n",
       "    <tr>\n",
       "      <th>4</th>\n",
       "      <td>/home/squirt/Documents/data/rp_weather_data/sc...</td>\n",
       "      <td>20200102T0000Z</td>\n",
       "      <td>r08</td>\n",
       "      <td>km1p5</td>\n",
       "      <td>RA2T</td>\n",
       "      <td>224x224sampling</td>\n",
       "      <td>2x2</td>\n",
       "      <td>time011</td>\n",
       "      <td>AVG</td>\n",
       "      <td>00408</td>\n",
       "    </tr>\n",
       "  </tbody>\n",
       "</table>\n",
       "</div>"
      ],
      "text/plain": [
       "                                           file_path       date_time region  \\\n",
       "0  /home/squirt/Documents/data/rp_weather_data/sc...  20200102T0000Z    r13   \n",
       "1  /home/squirt/Documents/data/rp_weather_data/sc...  20200102T0000Z    r34   \n",
       "2  /home/squirt/Documents/data/rp_weather_data/sc...  20200102T0000Z    r32   \n",
       "3  /home/squirt/Documents/data/rp_weather_data/sc...  20200102T0000Z    r75   \n",
       "4  /home/squirt/Documents/data/rp_weather_data/sc...  20200102T0000Z    r08   \n",
       "\n",
       "  grid_length config      region_size sampling     time processing   code  \n",
       "0       km1p5   RA2T  224x224sampling      2x2  time018        AVG  16004  \n",
       "1       km1p5   RA2T  224x224sampling      2x2  time005        STD  16004  \n",
       "2       km1p5   RA2T  224x224sampling      2x2  time023        AVG  00408  \n",
       "3       km1p5   RA2T  224x224sampling      2x2  time001        STD  00033  \n",
       "4       km1p5   RA2T  224x224sampling      2x2  time011        AVG  00408  "
      ]
     },
     "execution_count": 6,
     "metadata": {},
     "output_type": "execute_result"
    }
   ],
   "source": [
    "df.head()"
   ]
  },
  {
   "cell_type": "code",
   "execution_count": 7,
   "metadata": {},
   "outputs": [],
   "source": [
    "simple_df = df[['region', 'time', 'code', 'file_path', 'processing']]\n",
    "df_big_group = simple_df.groupby(['region', 'time', 'code'])"
   ]
  },
  {
   "cell_type": "code",
   "execution_count": 11,
   "metadata": {},
   "outputs": [],
   "source": [
    "result = []\n",
    "for name, group in df_big_group:\n",
    "    region, time, code = name\n",
    "    file_dict = {}\n",
    "    for index, row in group.iterrows():\n",
    "        file_dict[row['processing']] = row['file_path']\n",
    "\n",
    "    result.append({\n",
    "        'region': region,\n",
    "        'time': time,\n",
    "        'code': code,\n",
    "        'files': file_dict\n",
    "    })"
   ]
  },
  {
   "cell_type": "code",
   "execution_count": 12,
   "metadata": {},
   "outputs": [
    {
     "data": {
      "text/plain": [
       "{'region': 'r01',\n",
       " 'time': 'time000',\n",
       " 'code': '00010',\n",
       " 'files': {'STD': '/home/squirt/Documents/data/rp_weather_data/scratch/frme/caramel_for_zenodo/20200102/20200102T0000Z_r01_km1p5_RA2T_224x224sampling_hence_2x2_time000_STD_00010.nc',\n",
       "  'AVG': '/home/squirt/Documents/data/rp_weather_data/scratch/frme/caramel_for_zenodo/20200102/20200102T0000Z_r01_km1p5_RA2T_224x224sampling_hence_2x2_time000_AVG_00010.nc'}}"
      ]
     },
     "execution_count": 12,
     "metadata": {},
     "output_type": "execute_result"
    }
   ],
   "source": [
    "result[0]"
   ]
  }
 ],
 "metadata": {
  "kernelspec": {
   "display_name": "climate",
   "language": "python",
   "name": "python3"
  },
  "language_info": {
   "codemirror_mode": {
    "name": "ipython",
    "version": 3
   },
   "file_extension": ".py",
   "mimetype": "text/x-python",
   "name": "python",
   "nbconvert_exporter": "python",
   "pygments_lexer": "ipython3",
   "version": "3.11.8"
  }
 },
 "nbformat": 4,
 "nbformat_minor": 2
}
