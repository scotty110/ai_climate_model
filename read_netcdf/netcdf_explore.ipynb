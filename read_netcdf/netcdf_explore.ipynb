{
 "cells": [
  {
   "cell_type": "markdown",
   "metadata": {},
   "source": [
    "# NetCDF Explore"
   ]
  },
  {
   "cell_type": "code",
   "execution_count": 1,
   "metadata": {},
   "outputs": [],
   "source": [
    "import numpy as np\n",
    "import glob\n",
    "import re\n",
    "from netCDF4 import Dataset\n",
    "\n",
    "import xarray as xr\n",
    "\n",
    "import pandas as pd\n",
    "\n",
    "from os.path import join"
   ]
  },
  {
   "cell_type": "markdown",
   "metadata": {},
   "source": [
    "## Get Files"
   ]
  },
  {
   "cell_type": "markdown",
   "metadata": {},
   "source": [
    "Get all files from a day"
   ]
  },
  {
   "cell_type": "code",
   "execution_count": 2,
   "metadata": {},
   "outputs": [],
   "source": [
    "file_dir = '../../rp_weather_data/20200102'\n",
    "to_get_path = join(file_dir, \"**/*.nc\")\n",
    "nc_files = glob.glob(to_get_path, recursive=True)"
   ]
  },
  {
   "cell_type": "markdown",
   "metadata": {},
   "source": [
    "Turn file paths into a dataframe with values so we can work with the files to get AVG and STD files for the values we need"
   ]
  },
  {
   "cell_type": "code",
   "execution_count": 3,
   "metadata": {},
   "outputs": [],
   "source": [
    "df = pd.DataFrame(nc_files, columns=['file_path'])\n",
    "\n",
    "# ChatGPT (so ???)\n",
    "def extract_parts(filename):\n",
    "    filename = re.sub(r'\\.nc$', '', filename)\n",
    "    # Split the string on _\n",
    "    filename_parts = re.split('_', filename)\n",
    "    filename_parts.remove('hence')\n",
    "    return filename_parts\n",
    "\n",
    "# Assuming df is your DataFrame and 'file_path' is the column with the filenames\n",
    "df[['date_time', 'region', 'grid_length', 'config', 'region_size', 'sampling', 'time', 'processing', 'code']] = df['file_path'].apply(lambda x: pd.Series(extract_parts(x.split('/')[-1])))\n"
   ]
  },
  {
   "cell_type": "markdown",
   "metadata": {},
   "source": [
    "Group so we have AVG and STD for the region and time and code (ie our X and Y data)"
   ]
  },
  {
   "cell_type": "code",
   "execution_count": 4,
   "metadata": {},
   "outputs": [],
   "source": [
    "simple_df = df[['region', 'time', 'code', 'file_path', 'processing']]\n",
    "df_big_group = simple_df.groupby(['region', 'time', 'code'])"
   ]
  },
  {
   "cell_type": "markdown",
   "metadata": {},
   "source": [
    "Convert to list of values"
   ]
  },
  {
   "cell_type": "code",
   "execution_count": 5,
   "metadata": {},
   "outputs": [],
   "source": [
    "result = []\n",
    "for name, group in df_big_group:\n",
    "    region, time, code = name\n",
    "    file_dict = {}\n",
    "    for index, row in group.iterrows():\n",
    "        file_dict[row['processing']] = row['file_path']\n",
    "\n",
    "    result.append({\n",
    "        'region': region,\n",
    "        'time': time,\n",
    "        'code': code,\n",
    "        'files': file_dict\n",
    "    })"
   ]
  },
  {
   "cell_type": "code",
   "execution_count": 6,
   "metadata": {},
   "outputs": [
    {
     "data": {
      "text/plain": [
       "{'region': 'r01',\n",
       " 'time': 'time000',\n",
       " 'code': '00010',\n",
       " 'files': {'STD': '../../rp_weather_data/20200102/20200102T0000Z_r01_km1p5_RA2T_224x224sampling_hence_2x2_time000_STD_00010.nc',\n",
       "  'AVG': '../../rp_weather_data/20200102/20200102T0000Z_r01_km1p5_RA2T_224x224sampling_hence_2x2_time000_AVG_00010.nc'}}"
      ]
     },
     "execution_count": 6,
     "metadata": {},
     "output_type": "execute_result"
    }
   ],
   "source": [
    "result[0]"
   ]
  },
  {
   "cell_type": "markdown",
   "metadata": {},
   "source": [
    "## Read NetCDF files"
   ]
  },
  {
   "cell_type": "code",
   "execution_count": 7,
   "metadata": {},
   "outputs": [],
   "source": [
    "ncdf_grouping = result[0]"
   ]
  },
  {
   "cell_type": "code",
   "execution_count": 8,
   "metadata": {},
   "outputs": [],
   "source": [
    "test_file = ncdf_grouping['files']['STD']"
   ]
  },
  {
   "cell_type": "code",
   "execution_count": 9,
   "metadata": {},
   "outputs": [
    {
     "data": {
      "text/plain": [
       "{'region': 'r01',\n",
       " 'time': 'time000',\n",
       " 'code': '00010',\n",
       " 'files': {'STD': '../../rp_weather_data/20200102/20200102T0000Z_r01_km1p5_RA2T_224x224sampling_hence_2x2_time000_STD_00010.nc',\n",
       "  'AVG': '../../rp_weather_data/20200102/20200102T0000Z_r01_km1p5_RA2T_224x224sampling_hence_2x2_time000_AVG_00010.nc'}}"
      ]
     },
     "execution_count": 9,
     "metadata": {},
     "output_type": "execute_result"
    }
   ],
   "source": [
    "ncdf_grouping"
   ]
  },
  {
   "cell_type": "code",
   "execution_count": 10,
   "metadata": {},
   "outputs": [
    {
     "name": "stdout",
     "output_type": "stream",
     "text": [
      "(70, 2, 2)\n"
     ]
    }
   ],
   "source": [
    "'''\n",
    "nc = Dataset(test_file, 'r')\n",
    "for var in nc.variables:\n",
    "    print(f'Variable: {var}')\n",
    "    print(f'Values: {nc.variables[var][:]}')\n",
    "\n",
    "# Close the NetCDF file\n",
    "nc.close()\n",
    "'''\n",
    "nc = Dataset(test_file, 'r')\n",
    "var = nc.variables['unknown']\n",
    "#print(var[:])\n",
    "v = np.array(var[:])\n",
    "nc.close()\n",
    "\n",
    "print(v.shape)\n",
    "\n",
    "#'''"
   ]
  },
  {
   "cell_type": "markdown",
   "metadata": {},
   "source": [
    "Unkown field is what we want out of every file"
   ]
  },
  {
   "cell_type": "code",
   "execution_count": 11,
   "metadata": {},
   "outputs": [],
   "source": [
    "def get_values(fname:str) -> np.ndarray:\n",
    "    nc = Dataset(fname, 'r')\n",
    "    var = nc.variables['unknown']\n",
    "    v = np.array(var[:])\n",
    "    nc.close()\n",
    "    return v"
   ]
  },
  {
   "cell_type": "code",
   "execution_count": 12,
   "metadata": {},
   "outputs": [],
   "source": [
    "def process_group(g:dict) -> dict:\n",
    "    print(g)\n",
    "    to_return = {'region': g['region'], 'time': g['time'], 'code': g['code']}\n",
    "    to_return['AVG'] = get_values(g['files']['AVG'])\n",
    "    to_return['STD'] = get_values(g['files']['STD'])\n",
    "    return to_return"
   ]
  },
  {
   "cell_type": "code",
   "execution_count": 13,
   "metadata": {},
   "outputs": [
    {
     "name": "stdout",
     "output_type": "stream",
     "text": [
      "{'region': 'r01', 'time': 'time000', 'code': '00010', 'files': {'STD': '../../rp_weather_data/20200102/20200102T0000Z_r01_km1p5_RA2T_224x224sampling_hence_2x2_time000_STD_00010.nc', 'AVG': '../../rp_weather_data/20200102/20200102T0000Z_r01_km1p5_RA2T_224x224sampling_hence_2x2_time000_AVG_00010.nc'}}\n",
      "{'region': 'r01', 'time': 'time000', 'code': '00030', 'files': {'AVG': '../../rp_weather_data/20200102/20200102T0000Z_r01_km1p5_RA2T_224x224sampling_hence_2x2_time000_AVG_00030.nc'}}\n"
     ]
    },
    {
     "ename": "KeyError",
     "evalue": "'STD'",
     "output_type": "error",
     "traceback": [
      "\u001b[0;31m---------------------------------------------------------------------------\u001b[0m",
      "\u001b[0;31mKeyError\u001b[0m                                  Traceback (most recent call last)",
      "Cell \u001b[0;32mIn[13], line 1\u001b[0m\n\u001b[0;32m----> 1\u001b[0m processed_list \u001b[38;5;241m=\u001b[39m [\u001b[43mprocess_group\u001b[49m\u001b[43m(\u001b[49m\u001b[43mg\u001b[49m\u001b[43m)\u001b[49m \u001b[38;5;28;01mfor\u001b[39;00m g \u001b[38;5;129;01min\u001b[39;00m result]\n\u001b[1;32m      2\u001b[0m processed_df \u001b[38;5;241m=\u001b[39m pd\u001b[38;5;241m.\u001b[39mDataFrame(processed_list)\n",
      "Cell \u001b[0;32mIn[12], line 5\u001b[0m, in \u001b[0;36mprocess_group\u001b[0;34m(g)\u001b[0m\n\u001b[1;32m      3\u001b[0m to_return \u001b[38;5;241m=\u001b[39m {\u001b[38;5;124m'\u001b[39m\u001b[38;5;124mregion\u001b[39m\u001b[38;5;124m'\u001b[39m: g[\u001b[38;5;124m'\u001b[39m\u001b[38;5;124mregion\u001b[39m\u001b[38;5;124m'\u001b[39m], \u001b[38;5;124m'\u001b[39m\u001b[38;5;124mtime\u001b[39m\u001b[38;5;124m'\u001b[39m: g[\u001b[38;5;124m'\u001b[39m\u001b[38;5;124mtime\u001b[39m\u001b[38;5;124m'\u001b[39m], \u001b[38;5;124m'\u001b[39m\u001b[38;5;124mcode\u001b[39m\u001b[38;5;124m'\u001b[39m: g[\u001b[38;5;124m'\u001b[39m\u001b[38;5;124mcode\u001b[39m\u001b[38;5;124m'\u001b[39m]}\n\u001b[1;32m      4\u001b[0m to_return[\u001b[38;5;124m'\u001b[39m\u001b[38;5;124mAVG\u001b[39m\u001b[38;5;124m'\u001b[39m] \u001b[38;5;241m=\u001b[39m get_values(g[\u001b[38;5;124m'\u001b[39m\u001b[38;5;124mfiles\u001b[39m\u001b[38;5;124m'\u001b[39m][\u001b[38;5;124m'\u001b[39m\u001b[38;5;124mAVG\u001b[39m\u001b[38;5;124m'\u001b[39m])\n\u001b[0;32m----> 5\u001b[0m to_return[\u001b[38;5;124m'\u001b[39m\u001b[38;5;124mSTD\u001b[39m\u001b[38;5;124m'\u001b[39m] \u001b[38;5;241m=\u001b[39m get_values(\u001b[43mg\u001b[49m\u001b[43m[\u001b[49m\u001b[38;5;124;43m'\u001b[39;49m\u001b[38;5;124;43mfiles\u001b[39;49m\u001b[38;5;124;43m'\u001b[39;49m\u001b[43m]\u001b[49m\u001b[43m[\u001b[49m\u001b[38;5;124;43m'\u001b[39;49m\u001b[38;5;124;43mSTD\u001b[39;49m\u001b[38;5;124;43m'\u001b[39;49m\u001b[43m]\u001b[49m)\n\u001b[1;32m      6\u001b[0m \u001b[38;5;28;01mreturn\u001b[39;00m to_return\n",
      "\u001b[0;31mKeyError\u001b[0m: 'STD'"
     ]
    }
   ],
   "source": [
    "processed_list = [process_group(g) for g in result]\n",
    "processed_df = pd.DataFrame(processed_list)"
   ]
  },
  {
   "cell_type": "markdown",
   "metadata": {},
   "source": [
    "Notes:\n",
    "    - Not every file has a STD included\n",
    "\n",
    "    - `ls ./*_STD_* | wc -l` -> 5760\n",
    "\n",
    "    - `ls ./* | wc -l` -> 15360\n",
    "\n",
    "    - So about 1/3\n",
    "\n",
    "```\n",
    "20200102T0000Z_r02_km1p5_RA2T_224x224sampling_hence_2x2_time000_AVG_00010.nc  20200102T0000Z_r02_km1p5_RA2T_224x224sampling_hence_2x2_time000_AVG_16004.nc\n",
    "20200102T0000Z_r02_km1p5_RA2T_224x224sampling_hence_2x2_time000_AVG_00030.nc  20200102T0000Z_r02_km1p5_RA2T_224x224sampling_hence_2x2_time000_STD_00010.nc\n",
    "20200102T0000Z_r02_km1p5_RA2T_224x224sampling_hence_2x2_time000_AVG_00033.nc  20200102T0000Z_r02_km1p5_RA2T_224x224sampling_hence_2x2_time000_STD_00033.nc\n",
    "20200102T0000Z_r02_km1p5_RA2T_224x224sampling_hence_2x2_time000_AVG_00408.nc  20200102T0000Z_r02_km1p5_RA2T_224x224sampling_hence_2x2_time000_STD_16004.nc\n",
    "```"
   ]
  },
  {
   "cell_type": "markdown",
   "metadata": {},
   "source": [
    "1. cd ~/Documents/data/rp_weather_data/scratch/frme/caramel_for_zenodo/20200102 \n",
    "\n",
    "2. ls 20200102T0000Z_r02_km1p5_RA2T_224x224sampling_hence_2x2_time000_*\n",
    "\n",
    "What exactly are we doing?"
   ]
  }
 ],
 "metadata": {
  "kernelspec": {
   "display_name": "climate",
   "language": "python",
   "name": "python3"
  },
  "language_info": {
   "codemirror_mode": {
    "name": "ipython",
    "version": 3
   },
   "file_extension": ".py",
   "mimetype": "text/x-python",
   "name": "python",
   "nbconvert_exporter": "python",
   "pygments_lexer": "ipython3",
   "version": "3.12.2"
  }
 },
 "nbformat": 4,
 "nbformat_minor": 2
}
