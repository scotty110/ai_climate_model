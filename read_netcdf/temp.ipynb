{
 "cells": [
  {
   "cell_type": "markdown",
   "metadata": {},
   "source": [
    "# Just read in Temp, save per region in 4D array\n"
   ]
  },
  {
   "cell_type": "code",
   "execution_count": 2,
   "metadata": {},
   "outputs": [],
   "source": [
    "import numpy as np\n",
    "import glob\n",
    "import re\n",
    "\n",
    "from netCDF4 import Dataset\n",
    "import pandas as pd\n",
    "from os.path import join"
   ]
  },
  {
   "cell_type": "code",
   "execution_count": 3,
   "metadata": {},
   "outputs": [],
   "source": [
    "file_dir = '/home/squirt/Documents/data/rp_weather_data/scratch/frme/caramel_for_zenodo/20200102'\n",
    "to_get_path = join(file_dir, \"**/*.nc\")\n",
    "nc_files = glob.glob(to_get_path, recursive=True)"
   ]
  },
  {
   "cell_type": "markdown",
   "metadata": {},
   "source": [
    "Filter out any non temp related items"
   ]
  },
  {
   "cell_type": "code",
   "execution_count": 5,
   "metadata": {},
   "outputs": [],
   "source": [
    "def filter_temp(fname:str) -> bool:\n",
    "    split_filename = fname.split('.nc')[0].split('_')\n",
    "    return split_filename[-1] == '16004'"
   ]
  },
  {
   "cell_type": "code",
   "execution_count": 6,
   "metadata": {},
   "outputs": [],
   "source": [
    "filter_list = list(filter(filter_temp, nc_files))"
   ]
  },
  {
   "cell_type": "code",
   "execution_count": 7,
   "metadata": {},
   "outputs": [
    {
     "data": {
      "text/plain": [
       "'/home/squirt/Documents/data/rp_weather_data/scratch/frme/caramel_for_zenodo/20200102/20200102T0000Z_r13_km1p5_RA2T_224x224sampling_hence_2x2_time018_AVG_16004.nc'"
      ]
     },
     "execution_count": 7,
     "metadata": {},
     "output_type": "execute_result"
    }
   ],
   "source": [
    "filter_list[0]"
   ]
  },
  {
   "cell_type": "code",
   "execution_count": 8,
   "metadata": {},
   "outputs": [],
   "source": [
    "def clean_files(f:str) -> dict:\n",
    "    split_filename = (f.split('/')[-1]).split('.')[0]\n",
    "    parts = split_filename.split('_')\n",
    "    return {'time':parts[7], 'region':parts[1], 'type':parts[8], 'file':f}"
   ]
  },
  {
   "cell_type": "code",
   "execution_count": 9,
   "metadata": {},
   "outputs": [
    {
     "name": "stdout",
     "output_type": "stream",
     "text": [
      "{'time': 'time018', 'region': 'r13', 'type': 'AVG', 'file': '/home/squirt/Documents/data/rp_weather_data/scratch/frme/caramel_for_zenodo/20200102/20200102T0000Z_r13_km1p5_RA2T_224x224sampling_hence_2x2_time018_AVG_16004.nc'}\n"
     ]
    }
   ],
   "source": [
    "simple_list = list(map(clean_files, filter_list))\n",
    "print(simple_list[0])"
   ]
  },
  {
   "cell_type": "code",
   "execution_count": 15,
   "metadata": {},
   "outputs": [],
   "source": [
    "simple_df = pd.DataFrame(simple_list)\n",
    "\n",
    "simple_df_avg = simple_df[simple_df['type'] == 'STD']\n",
    "simple_group_avg = simple_df_avg.groupby(['region'])\n",
    "\n",
    "simple_df_std = simple_df[simple_df['type'] == 'STD']\n",
    "simple_group_std = simple_df_std.groupby(['region'])"
   ]
  },
  {
   "cell_type": "code",
   "execution_count": 16,
   "metadata": {},
   "outputs": [],
   "source": [
    "def sort_files(l:list[dict]) -> list[dict]:\n",
    "    return sorted(l, key=lambda x: x['time'])"
   ]
  },
  {
   "cell_type": "code",
   "execution_count": 17,
   "metadata": {},
   "outputs": [],
   "source": [
    "avg_list = []\n",
    "for name, group in simple_group_avg:\n",
    "    avg_list.append(sort_files(group.to_dict('records')))"
   ]
  },
  {
   "cell_type": "code",
   "execution_count": 19,
   "metadata": {},
   "outputs": [],
   "source": [
    "std_list = []\n",
    "for name, group in simple_group_std:\n",
    "    avg_list.append(sort_files(group.to_dict('records')))"
   ]
  }
 ],
 "metadata": {
  "kernelspec": {
   "display_name": "climate",
   "language": "python",
   "name": "python3"
  },
  "language_info": {
   "codemirror_mode": {
    "name": "ipython",
    "version": 3
   },
   "file_extension": ".py",
   "mimetype": "text/x-python",
   "name": "python",
   "nbconvert_exporter": "python",
   "pygments_lexer": "ipython3",
   "version": "3.11.8"
  }
 },
 "nbformat": 4,
 "nbformat_minor": 2
}
