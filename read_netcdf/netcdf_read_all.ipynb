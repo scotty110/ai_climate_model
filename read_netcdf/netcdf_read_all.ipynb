{
 "cells": [
  {
   "cell_type": "markdown",
   "metadata": {},
   "source": [
    "# NetCDF Explore"
   ]
  },
  {
   "cell_type": "code",
   "execution_count": 1,
   "metadata": {},
   "outputs": [],
   "source": [
    "import glob\n",
    "import re\n",
    "from netCDF4 import Dataset\n",
    "\n",
    "import pandas as pd\n",
    "\n",
    "from os.path import join"
   ]
  },
  {
   "cell_type": "markdown",
   "metadata": {},
   "source": [
    "## Load NetCDF"
   ]
  },
  {
   "cell_type": "code",
   "execution_count": 2,
   "metadata": {},
   "outputs": [],
   "source": [
    "file_dir = '/home/squirt/Documents/data/rp_weather_data/scratch/frme/caramel_for_zenodo'\n",
    "\n",
    "# There are days with multiple files, so we need to get all of them\n",
    "to_get_path = join(file_dir, \"**/*.nc\")\n",
    "nc_files = glob.glob(to_get_path, recursive=True)"
   ]
  },
  {
   "cell_type": "code",
   "execution_count": 4,
   "metadata": {},
   "outputs": [],
   "source": [
    "df = pd.DataFrame(nc_files, columns=['file_path'])\n",
    "\n",
    "# ChatGPT (so ???)\n",
    "def extract_parts(filename):\n",
    "    filename = re.sub(r'\\.nc$', '', filename)\n",
    "    # Split the string on _\n",
    "    filename_parts = re.split('_', filename)\n",
    "    filename_parts.remove('hence')\n",
    "    return filename_parts\n",
    "\n",
    "# Assuming df is your DataFrame and 'file_path' is the column with the filenames\n",
    "df[['date_time', 'region', 'grid_length', 'config', 'region_size', 'sampling', 'time', 'processing', 'code']] = df['file_path'].apply(lambda x: pd.Series(extract_parts(x.split('/')[-1])))\n"
   ]
  },
  {
   "cell_type": "code",
   "execution_count": 7,
   "metadata": {},
   "outputs": [],
   "source": [
    "simple_df = df[['region', 'time', 'code', 'file_path', 'processing']]\n",
    "df_big_group = simple_df.groupby(['region', 'time', 'code'])"
   ]
  },
  {
   "cell_type": "code",
   "execution_count": 11,
   "metadata": {},
   "outputs": [],
   "source": [
    "result = []\n",
    "for name, group in df_big_group:\n",
    "    region, time, code = name\n",
    "    file_dict = {}\n",
    "    for index, row in group.iterrows():\n",
    "        file_dict[row['processing']] = row['file_path']\n",
    "\n",
    "    result.append({\n",
    "        'region': region,\n",
    "        'time': time,\n",
    "        'code': code,\n",
    "        'files': file_dict\n",
    "    })"
   ]
  },
  {
   "cell_type": "code",
   "execution_count": 12,
   "metadata": {},
   "outputs": [
    {
     "data": {
      "text/plain": [
       "{'region': 'r01',\n",
       " 'time': 'time000',\n",
       " 'code': '00010',\n",
       " 'files': {'STD': '/home/squirt/Documents/data/rp_weather_data/scratch/frme/caramel_for_zenodo/20200102/20200102T0000Z_r01_km1p5_RA2T_224x224sampling_hence_2x2_time000_STD_00010.nc',\n",
       "  'AVG': '/home/squirt/Documents/data/rp_weather_data/scratch/frme/caramel_for_zenodo/20200102/20200102T0000Z_r01_km1p5_RA2T_224x224sampling_hence_2x2_time000_AVG_00010.nc'}}"
      ]
     },
     "execution_count": 12,
     "metadata": {},
     "output_type": "execute_result"
    }
   ],
   "source": [
    "result[0]"
   ]
  }
 ],
 "metadata": {
  "kernelspec": {
   "display_name": "climate",
   "language": "python",
   "name": "python3"
  },
  "language_info": {
   "codemirror_mode": {
    "name": "ipython",
    "version": 3
   },
   "file_extension": ".py",
   "mimetype": "text/x-python",
   "name": "python",
   "nbconvert_exporter": "python",
   "pygments_lexer": "ipython3",
   "version": "3.11.8"
  }
 },
 "nbformat": 4,
 "nbformat_minor": 2
}
