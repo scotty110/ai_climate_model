{
 "cells": [
  {
   "cell_type": "markdown",
   "metadata": {},
   "source": [
    "# Make Simple Random Noise Sampler "
   ]
  },
  {
   "cell_type": "code",
   "execution_count": 1,
   "metadata": {},
   "outputs": [],
   "source": [
    "import torch\n",
    "from torch import nn"
   ]
  },
  {
   "cell_type": "markdown",
   "metadata": {},
   "source": [
    "Just scale the temperature by some random noise"
   ]
  },
  {
   "cell_type": "code",
   "execution_count": 5,
   "metadata": {},
   "outputs": [],
   "source": [
    "class TrialNet(nn.Module):\n",
    "    def __init__(self) -> None:\n",
    "        super().__init__()\n",
    "\n",
    "    def forward(self, t: torch.Tensor, p: torch.Tensor, m: torch.Tensor) -> tuple[torch.Tensor, torch.Tensor]:\n",
    "        '''\n",
    "        Inputs:\n",
    "            t: torch.Tensor, shape (batch_size, 16, 32)\n",
    "            \n",
    "        Returns:\n",
    "            t_sample: torch.Tensor, shape (batch_size, 16, 32)\n",
    "        '''\n",
    "        t_mean = t.mean(dim=(0,1), keepdim=True)\n",
    "        \n",
    "        t_noise = torch.randn_like(t)\n",
    "        \n",
    "        # Scale the noise to match the calculated mean and std\n",
    "        t_sample = t + t_noise * t_mean * 0.01\n",
    "\n",
    "        return t_sample, m"
   ]
  },
  {
   "cell_type": "markdown",
   "metadata": {},
   "source": [
    "Save the model"
   ]
  },
  {
   "cell_type": "code",
   "execution_count": 6,
   "metadata": {},
   "outputs": [
    {
     "name": "stdout",
     "output_type": "stream",
     "text": [
      "torch.Size([2, 16, 32])\n"
     ]
    }
   ],
   "source": [
    "model = TrialNet()\n",
    "model.eval()\n",
    "\n",
    "t = torch.randn(2, 16, 32)\n",
    "\n",
    "mt = model(t)\n",
    "print(mt.shape)\n",
    "\n",
    "scripted_model = torch.jit.script(model)\n",
    "scripted_model.save(\"simple_noise.pt\")"
   ]
  }
 ],
 "metadata": {
  "kernelspec": {
   "display_name": "torch",
   "language": "python",
   "name": "python3"
  },
  "language_info": {
   "codemirror_mode": {
    "name": "ipython",
    "version": 3
   },
   "file_extension": ".py",
   "mimetype": "text/x-python",
   "name": "python",
   "nbconvert_exporter": "python",
   "pygments_lexer": "ipython3",
   "version": "3.12.5"
  }
 },
 "nbformat": 4,
 "nbformat_minor": 2
}
