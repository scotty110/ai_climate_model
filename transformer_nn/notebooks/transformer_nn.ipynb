{
 "cells": [
  {
   "cell_type": "markdown",
   "metadata": {},
   "source": [
    "# Transformer NN"
   ]
  },
  {
   "cell_type": "markdown",
   "metadata": {},
   "source": [
    "Investigate a simple feedforward NN. Look at 1 layer then multi layer?"
   ]
  },
  {
   "cell_type": "code",
   "execution_count": 1,
   "metadata": {},
   "outputs": [],
   "source": [
    "import torch\n",
    "import torch.nn as nn\n",
    "import torch.optim as optim\n",
    "\n",
    "from torch.cuda.amp import autocast\n",
    "from torch.cuda.amp import GradScaler\n",
    "\n",
    "from os.path import join\n",
    "\n",
    "import sys\n",
    "sys.path.append('../')\n",
    "import utils"
   ]
  },
  {
   "cell_type": "code",
   "execution_count": 2,
   "metadata": {},
   "outputs": [],
   "source": [
    "assert torch.cuda.is_available(), 'CUDA is not available.'"
   ]
  },
  {
   "cell_type": "markdown",
   "metadata": {},
   "source": [
    "## Load Data"
   ]
  },
  {
   "cell_type": "code",
   "execution_count": 3,
   "metadata": {},
   "outputs": [],
   "source": [
    "fname = join('/home/squirt/Documents/data/weather_data/', 'all_data.h5')"
   ]
  },
  {
   "cell_type": "markdown",
   "metadata": {},
   "source": [
    "Set batchsize and partition. Create Dataloaders from h5 data. Use utils function"
   ]
  },
  {
   "cell_type": "code",
   "execution_count": 4,
   "metadata": {},
   "outputs": [],
   "source": [
    "batch_size = 512\n",
    "split = 0.5\n",
    "t_dl, v_dl = utils.get_dataloaders(fname, batch_size, split)"
   ]
  },
  {
   "cell_type": "markdown",
   "metadata": {},
   "source": [
    "## Define Model"
   ]
  },
  {
   "cell_type": "markdown",
   "metadata": {},
   "source": [
    "Define model in utils. So we can use main method eventually for training"
   ]
  },
  {
   "cell_type": "code",
   "execution_count": 5,
   "metadata": {},
   "outputs": [],
   "source": [
    "model = utils.ConvTrans(input_shape=[71,3,2,2])\n",
    "model = model.double().cuda()"
   ]
  },
  {
   "cell_type": "markdown",
   "metadata": {},
   "source": [
    "## Define Training Loop "
   ]
  },
  {
   "cell_type": "code",
   "execution_count": 6,
   "metadata": {},
   "outputs": [],
   "source": [
    "optimizer = optim.Adam(model.parameters(), lr=0.001)"
   ]
  },
  {
   "cell_type": "markdown",
   "metadata": {},
   "source": [
    "Define training loop. Does one pass over data then returns average loss\n",
    "Inputs:\n",
    "    - model (nn.Module): Our Net that we want to optimize\n",
    "    - dl (torch.utils.data.DataLoader): Train dataloader\n",
    "    - optim (torch.optim): Optimizer to train\n",
    "    - loss (nn.Module): Loss function (can be nn.Module or nn.Function)\n",
    "Returns:\n",
    "    - Training loss on one pass\n"
   ]
  },
  {
   "cell_type": "code",
   "execution_count": 7,
   "metadata": {},
   "outputs": [],
   "source": [
    "\n",
    "def train(model:nn.Module, dl:torch.utils.data.DataLoader, optim:torch.optim, loss:nn.Module) -> float:\n",
    "    model.train()\n",
    "    total_loss = .0\n",
    "    scaler = GradScaler()\n",
    "\n",
    "    for _, (l, x, y) in enumerate(dl):\n",
    "        l = l.cuda()\n",
    "        x = x.cuda()\n",
    "        y = y.cuda()\n",
    "\n",
    "        # Combine\n",
    "        l = l.unsqueeze(1)\n",
    "        x = torch.cat((l, x), 1)\n",
    "\n",
    "        # Forward pass\n",
    "        with autocast():\n",
    "            y_pred = model(x)\n",
    "            l = loss(y_pred, y)\n",
    "            total_loss += l.item()\n",
    "\n",
    "        # Preform backpass\n",
    "        scaler.scale(l).backward()\n",
    "        scaler.step(optim)\n",
    "        scaler.update()\n",
    "    \n",
    "    return total_loss / len(dl)"
   ]
  },
  {
   "cell_type": "markdown",
   "metadata": {},
   "source": [
    "Define eval loss loop. Does one pass over evaluation data and returns the average loss\n",
    "Inputs:\n",
    "    - model (nn.Module): Network that we are training\n",
    "    - dl (torch.utils.data.DataLoader): Eval dataloader"
   ]
  },
  {
   "cell_type": "code",
   "execution_count": 8,
   "metadata": {},
   "outputs": [],
   "source": [
    "def eval(model:nn.Module, dl:torch.utils.data.DataLoader, loss:nn.Module) -> float:\n",
    "    model.eval()\n",
    "    total_loss = .0\n",
    "\n",
    "    for _, (l, x, y) in enumerate(dl):\n",
    "        l = l.cuda()\n",
    "        x = x.cuda()\n",
    "        y = y.cuda()\n",
    "\n",
    "        # Combine\n",
    "        l = l.unsqueeze(1)\n",
    "        x = torch.cat((l, x), 1)\n",
    "\n",
    "        # Forward pass\n",
    "        with autocast():\n",
    "            y_pred = model(x)\n",
    "            l = loss(y_pred, y)\n",
    "            total_loss += l.item()\n",
    "\n",
    "    return total_loss / len(dl)"
   ]
  },
  {
   "cell_type": "markdown",
   "metadata": {},
   "source": [
    "## Training"
   ]
  },
  {
   "cell_type": "code",
   "execution_count": 9,
   "metadata": {},
   "outputs": [],
   "source": [
    "train_loss = nn.MSELoss()"
   ]
  },
  {
   "cell_type": "code",
   "execution_count": 10,
   "metadata": {},
   "outputs": [
    {
     "name": "stdout",
     "output_type": "stream",
     "text": [
      "Epoch 1 - Eval Loss: 0.26916159101961545\n",
      "Epoch 2 - Eval Loss: 0.26368698782720523\n",
      "Epoch 3 - Eval Loss: 0.25934391670063683\n",
      "Epoch 4 - Eval Loss: 0.2578923886781918\n",
      "Epoch 5 - Eval Loss: 0.25694811837023784\n"
     ]
    }
   ],
   "source": [
    "for i in range(5):\n",
    "    train(model, t_dl, optimizer, train_loss)\n",
    "    l = eval(model, v_dl, train_loss)\n",
    "    print(f'Epoch {i+1} - Eval Loss: {l}')"
   ]
  },
  {
   "cell_type": "code",
   "execution_count": 11,
   "metadata": {},
   "outputs": [
    {
     "name": "stdout",
     "output_type": "stream",
     "text": [
      "19 19\n",
      "9600 9600\n"
     ]
    }
   ],
   "source": [
    "print(len(t_dl), len(v_dl))\n",
    "print(len(t_dl.dataset), len(v_dl.dataset))"
   ]
  }
 ],
 "metadata": {
  "kernelspec": {
   "display_name": "climate",
   "language": "python",
   "name": "python3"
  },
  "language_info": {
   "codemirror_mode": {
    "name": "ipython",
    "version": 3
   },
   "file_extension": ".py",
   "mimetype": "text/x-python",
   "name": "python",
   "nbconvert_exporter": "python",
   "pygments_lexer": "ipython3",
   "version": "3.12.3"
  }
 },
 "nbformat": 4,
 "nbformat_minor": 2
}
