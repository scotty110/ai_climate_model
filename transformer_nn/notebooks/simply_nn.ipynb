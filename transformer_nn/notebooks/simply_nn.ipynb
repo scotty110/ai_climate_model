{
 "cells": [
  {
   "cell_type": "markdown",
   "metadata": {},
   "source": [
    "# Simple NN"
   ]
  },
  {
   "cell_type": "markdown",
   "metadata": {},
   "source": [
    "Investigate a simple feedforward NN. Look at 1 layer then multi layer?"
   ]
  },
  {
   "cell_type": "code",
   "execution_count": 1,
   "metadata": {},
   "outputs": [],
   "source": [
    "import torch\n",
    "import torch.nn as nn\n",
    "import torch.optim as optim\n",
    "\n",
    "from torch.cuda.amp import autocast\n",
    "from torch.cuda.amp import GradScaler\n",
    "\n",
    "from os.path import join\n",
    "\n",
    "import sys\n",
    "sys.path.append('../')\n",
    "import utils"
   ]
  },
  {
   "cell_type": "code",
   "execution_count": 2,
   "metadata": {},
   "outputs": [],
   "source": [
    "assert torch.cuda.is_available(), 'CUDA is not available.'"
   ]
  },
  {
   "cell_type": "markdown",
   "metadata": {},
   "source": [
    "## Load Data"
   ]
  },
  {
   "cell_type": "code",
   "execution_count": 3,
   "metadata": {},
   "outputs": [],
   "source": [
    "fname = join('/home/squirt/Documents/data/weather_data/', 'all_data.h5')"
   ]
  },
  {
   "cell_type": "markdown",
   "metadata": {},
   "source": [
    "Set batchsize and partition. Create Dataloaders from h5 data. Use utils function"
   ]
  },
  {
   "cell_type": "code",
   "execution_count": 4,
   "metadata": {},
   "outputs": [],
   "source": [
    "batch_size = 2048 \n",
    "split = 0.5\n",
    "t_dl, v_dl = utils.get_dataloaders(fname, batch_size, split)"
   ]
  },
  {
   "cell_type": "markdown",
   "metadata": {},
   "source": [
    "## Define Model"
   ]
  },
  {
   "cell_type": "markdown",
   "metadata": {},
   "source": [
    "Simple FF net. Flatten input so $(3*2*2 + 70*2*2*2)=852$. And flatten output $(70*2*2*2)=560$."
   ]
  },
  {
   "cell_type": "code",
   "execution_count": 5,
   "metadata": {},
   "outputs": [],
   "source": [
    "class simpleNN(nn.Module):\n",
    "    def __init__(self):\n",
    "        super(simpleNN, self).__init__()\n",
    "        self.fc1 = nn.Linear(852,4096)\n",
    "        self.fc2 = nn.Linear(4096, 4096)\n",
    "        self.fc3 = nn.Linear(4096, 560)\n",
    "\n",
    "    def forward(self, x):\n",
    "        x = torch.relu(self.fc1(x))\n",
    "        x = torch.relu(self.fc2(x))\n",
    "        x = self.fc3(x)\n",
    "        return x"
   ]
  },
  {
   "cell_type": "code",
   "execution_count": 6,
   "metadata": {},
   "outputs": [],
   "source": [
    "model = simpleNN()\n",
    "model = model.double().cuda()"
   ]
  },
  {
   "cell_type": "markdown",
   "metadata": {},
   "source": [
    "## Define Training Loop "
   ]
  },
  {
   "cell_type": "code",
   "execution_count": 7,
   "metadata": {},
   "outputs": [],
   "source": [
    "optimizer = optim.Adam(model.parameters(), lr=0.001)"
   ]
  },
  {
   "cell_type": "markdown",
   "metadata": {},
   "source": [
    "Define training loop. Does one pass over data then returns average loss\n",
    "Inputs:\n",
    "    - model (nn.Module): Our Net that we want to optimize\n",
    "    - dl (torch.utils.data.DataLoader): Train dataloader\n",
    "    - optim (torch.optim): Optimizer to train\n",
    "    - loss (nn.Module): Loss function (can be nn.Module or nn.Function)\n",
    "Returns:\n",
    "    - Training loss on one pass\n"
   ]
  },
  {
   "cell_type": "code",
   "execution_count": 8,
   "metadata": {},
   "outputs": [],
   "source": [
    "\n",
    "def train(model:nn.Module, dl:torch.utils.data.DataLoader, optim:torch.optim, loss:nn.Module) -> float:\n",
    "    model.train()\n",
    "    total_loss = .0\n",
    "    scaler = GradScaler()\n",
    "\n",
    "    for _, (l, x, y) in enumerate(dl):\n",
    "        l = l.cuda()\n",
    "        x = x.cuda()\n",
    "        y = y.cuda()\n",
    "\n",
    "        # Flatten and combine\n",
    "        l = l.view(-1, 3*2*2)\n",
    "        x = x.view(-1, 70*3*2*2)\n",
    "        x = torch.cat((l, x), 1)\n",
    "\n",
    "        y = y.view(-1, 70*2*2*2)\n",
    "\n",
    "        # Forward pass\n",
    "        with autocast():\n",
    "            y_pred = model(x)\n",
    "            l = loss(y_pred, y)\n",
    "            total_loss += l.item()\n",
    "\n",
    "        # Preform backpass\n",
    "        scaler.scale(l).backward()\n",
    "        scaler.step(optim)\n",
    "        scaler.update()\n",
    "    \n",
    "    return total_loss / len(dl)"
   ]
  },
  {
   "cell_type": "markdown",
   "metadata": {},
   "source": [
    "Define eval loss loop. Does one pass over evaluation data and returns the average loss\n",
    "Inputs:\n",
    "    - model (nn.Module): Network that we are training\n",
    "    - dl (torch.utils.data.DataLoader): Eval dataloader"
   ]
  },
  {
   "cell_type": "code",
   "execution_count": 9,
   "metadata": {},
   "outputs": [],
   "source": [
    "def eval(model:nn.Module, dl:torch.utils.data.DataLoader, loss:nn.Module) -> float:\n",
    "    model.eval()\n",
    "    total_loss = .0\n",
    "\n",
    "    for _, (l, x, y) in enumerate(dl):\n",
    "        l = l.cuda()\n",
    "        x = x.cuda()\n",
    "        y = y.cuda()\n",
    "\n",
    "        # Flatten and combine\n",
    "        l = l.view(-1, 3*2*2)\n",
    "        x = x.view(-1, 70*3*2*2)\n",
    "        x = torch.cat((l, x), 1)\n",
    "\n",
    "        y = y.view(-1, 70*2*2*2)\n",
    "\n",
    "        # Forward pass\n",
    "        with autocast():\n",
    "            y_pred = model(x)\n",
    "            l = loss(y_pred, y)\n",
    "            total_loss += l.item()\n",
    "\n",
    "    return total_loss / len(dl)"
   ]
  },
  {
   "cell_type": "markdown",
   "metadata": {},
   "source": [
    "## Training"
   ]
  },
  {
   "cell_type": "code",
   "execution_count": 10,
   "metadata": {},
   "outputs": [],
   "source": [
    "train_loss = nn.MSELoss()"
   ]
  },
  {
   "cell_type": "code",
   "execution_count": 11,
   "metadata": {},
   "outputs": [
    {
     "name": "stdout",
     "output_type": "stream",
     "text": [
      "Epoch 1 - Eval Loss: 482938.94335975574\n",
      "Epoch 2 - Eval Loss: 11401.991708544698\n",
      "Epoch 3 - Eval Loss: 1104.8450253593107\n",
      "Epoch 4 - Eval Loss: 264.06146701162027\n",
      "Epoch 5 - Eval Loss: 60.89480827992425\n",
      "Epoch 6 - Eval Loss: 16.302699812532502\n",
      "Epoch 7 - Eval Loss: 1.4471300351442102\n",
      "Epoch 8 - Eval Loss: 0.7985396964771315\n",
      "Epoch 9 - Eval Loss: 0.6212278543945493\n",
      "Epoch 10 - Eval Loss: 0.5706674427013242\n",
      "Epoch 11 - Eval Loss: 0.5046172889658046\n",
      "Epoch 12 - Eval Loss: 0.4302757526406055\n",
      "Epoch 13 - Eval Loss: 0.3602562280067849\n",
      "Epoch 14 - Eval Loss: 0.3060196015674116\n",
      "Epoch 15 - Eval Loss: 0.27500417940345595\n",
      "Epoch 16 - Eval Loss: 0.26617113650604446\n",
      "Epoch 17 - Eval Loss: 0.26556703719904595\n",
      "Epoch 18 - Eval Loss: 0.26451142933533156\n",
      "Epoch 19 - Eval Loss: 0.2627033008641057\n",
      "Epoch 20 - Eval Loss: 0.26006561942436646\n",
      "Epoch 21 - Eval Loss: 0.25896692858648296\n",
      "Epoch 22 - Eval Loss: 0.2582646581252509\n",
      "Epoch 23 - Eval Loss: 0.25803565253025756\n",
      "Epoch 24 - Eval Loss: 0.2583166518725482\n",
      "Epoch 25 - Eval Loss: 0.25794216384651913\n",
      "Epoch 26 - Eval Loss: 0.2583290634412405\n"
     ]
    }
   ],
   "source": [
    "for i in range(26):\n",
    "    train(model, t_dl, optimizer, train_loss)\n",
    "    l = eval(model, v_dl, train_loss)\n",
    "    print(f'Epoch {i+1} - Eval Loss: {l}')"
   ]
  },
  {
   "cell_type": "code",
   "execution_count": 14,
   "metadata": {},
   "outputs": [
    {
     "name": "stdout",
     "output_type": "stream",
     "text": [
      "5 5\n",
      "9600 9600\n"
     ]
    }
   ],
   "source": [
    "print(len(t_dl), len(v_dl))\n",
    "print(len(t_dl.dataset), len(v_dl.dataset))"
   ]
  }
 ],
 "metadata": {
  "kernelspec": {
   "display_name": "climate",
   "language": "python",
   "name": "python3"
  },
  "language_info": {
   "codemirror_mode": {
    "name": "ipython",
    "version": 3
   },
   "file_extension": ".py",
   "mimetype": "text/x-python",
   "name": "python",
   "nbconvert_exporter": "python",
   "pygments_lexer": "ipython3",
   "version": "3.12.3"
  }
 },
 "nbformat": 4,
 "nbformat_minor": 2
}
