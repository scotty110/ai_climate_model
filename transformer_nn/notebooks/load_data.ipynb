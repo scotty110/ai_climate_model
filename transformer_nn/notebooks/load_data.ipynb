{
 "cells": [
  {
   "cell_type": "markdown",
   "metadata": {},
   "source": [
    "# Test Loading data and basic pre processing"
   ]
  },
  {
   "cell_type": "code",
   "execution_count": 28,
   "metadata": {},
   "outputs": [],
   "source": [
    "import torch\n",
    "import h5py\n",
    "\n",
    "import matplotlib.pyplot as plt"
   ]
  },
  {
   "cell_type": "markdown",
   "metadata": {},
   "source": [
    "## Load Data from h5 file"
   ]
  },
  {
   "cell_type": "code",
   "execution_count": 2,
   "metadata": {},
   "outputs": [],
   "source": [
    "file_path='/home/squirt/Documents/data/rp_weather_data/all_data.h5'"
   ]
  },
  {
   "cell_type": "code",
   "execution_count": 3,
   "metadata": {},
   "outputs": [],
   "source": [
    "def load_hdf5(filename):\n",
    "    data = []  # List to hold dictionaries\n",
    "    with h5py.File(filename, 'r') as f:\n",
    "        # Iterate through groups (each representing an entry in the original list)\n",
    "        for group_name in f:\n",
    "            group = f[group_name]\n",
    "            # Reconstruct dictionary from datasets and attributes\n",
    "            entry = {\n",
    "                # Attributes (metadata)\n",
    "                'day': group.attrs['day'],\n",
    "                'region': group.attrs['region'],\n",
    "                'time': group.attrs['time'],\n",
    "\n",
    "                # groups (numpy arrays)\n",
    "                'landmass': group['landmass'][...],  # Use [...] to read the full dataset\n",
    "                'x': group['x'][...],\n",
    "                'y': group['y'][...],\n",
    "            }\n",
    "            data.append(entry)\n",
    "    return data"
   ]
  },
  {
   "cell_type": "code",
   "execution_count": 4,
   "metadata": {},
   "outputs": [],
   "source": [
    "data_list = load_hdf5(file_path)"
   ]
  },
  {
   "cell_type": "code",
   "execution_count": 5,
   "metadata": {},
   "outputs": [
    {
     "data": {
      "text/plain": [
       "(3, 70, 2, 2)"
      ]
     },
     "execution_count": 5,
     "metadata": {},
     "output_type": "execute_result"
    }
   ],
   "source": [
    "data_list[0]['x'].shape"
   ]
  },
  {
   "cell_type": "code",
   "execution_count": 6,
   "metadata": {},
   "outputs": [],
   "source": [
    "def stack_data(data:list[dict], key:str) -> torch.Tensor:\n",
    "    return torch.stack([torch.tensor(entry[key]) for entry in data])"
   ]
  },
  {
   "cell_type": "code",
   "execution_count": 7,
   "metadata": {},
   "outputs": [],
   "source": [
    "X = stack_data(data_list, 'x')"
   ]
  },
  {
   "cell_type": "code",
   "execution_count": 8,
   "metadata": {},
   "outputs": [
    {
     "name": "stdout",
     "output_type": "stream",
     "text": [
      "torch.Size([19200, 3, 70, 2, 2])\n"
     ]
    }
   ],
   "source": [
    "print(X.shape)"
   ]
  },
  {
   "cell_type": "code",
   "execution_count": 9,
   "metadata": {},
   "outputs": [],
   "source": [
    "LM = stack_data(data_list, 'landmass')\n",
    "Y = stack_data(data_list, 'y')"
   ]
  },
  {
   "cell_type": "code",
   "execution_count": 11,
   "metadata": {},
   "outputs": [
    {
     "name": "stdout",
     "output_type": "stream",
     "text": [
      "torch.Size([19200, 3, 2, 2])\n",
      "torch.Size([19200, 2, 70, 2, 2])\n"
     ]
    }
   ],
   "source": [
    "print(LM.shape)\n",
    "print(Y.shape)"
   ]
  },
  {
   "cell_type": "code",
   "execution_count": 17,
   "metadata": {},
   "outputs": [
    {
     "name": "stdout",
     "output_type": "stream",
     "text": [
      "tensor([[3.1161, 2.6633],\n",
      "        [1.9113, 2.4286]], dtype=torch.float64)\n",
      "[[3.11609554 2.66331124]\n",
      " [1.91130269 2.42855477]]\n"
     ]
    }
   ],
   "source": [
    "print(Y[0,0,0,:])\n",
    "print(data_list[0]['y'][0,0,:])"
   ]
  },
  {
   "cell_type": "code",
   "execution_count": 19,
   "metadata": {},
   "outputs": [],
   "source": [
    "def normalize_tensor(data):\n",
    "    # Compute mean and std along the batch_size, x1, and x2 dimensions\n",
    "    mean = data.mean(dim=(0, 3, 4), keepdim=True)\n",
    "    std = data.std(dim=(0, 3, 4), keepdim=True)\n",
    "    \n",
    "    # Normalize the data\n",
    "    normalized_data = (data - mean) / (std + 1e-7)  # Add a small constant to avoid division by zero\n",
    "    \n",
    "    return normalized_data, mean, std"
   ]
  },
  {
   "cell_type": "code",
   "execution_count": 20,
   "metadata": {},
   "outputs": [],
   "source": [
    "normalized_X, mean_X, std_X = normalize_tensor(X)"
   ]
  },
  {
   "cell_type": "code",
   "execution_count": 23,
   "metadata": {},
   "outputs": [
    {
     "name": "stdout",
     "output_type": "stream",
     "text": [
      "tensor([[[-2.9658, -3.3713],\n",
      "         [-3.2182, -3.3078]],\n",
      "\n",
      "        [[-1.4642, -1.4844],\n",
      "         [-1.4730, -1.4778]],\n",
      "\n",
      "        [[-5.0000, -5.6815],\n",
      "         [-5.5651, -5.8456]]], dtype=torch.float64)\n"
     ]
    }
   ],
   "source": [
    "print(normalized_X[0,:,0,:])"
   ]
  },
  {
   "cell_type": "code",
   "execution_count": 26,
   "metadata": {},
   "outputs": [
    {
     "name": "stdout",
     "output_type": "stream",
     "text": [
      "tensor(-3.5181, dtype=torch.float64) tensor(1.8837, dtype=torch.float64)\n"
     ]
    }
   ],
   "source": [
    "print(torch.min(normalized_X[:,0,0,:]), torch.max(normalized_X[:,0,0,:]))"
   ]
  },
  {
   "cell_type": "code",
   "execution_count": 37,
   "metadata": {},
   "outputs": [
    {
     "data": {
      "image/png": "[encoded data removed]",
      "text/plain": [
       "<Figure size 640x480 with 1 Axes>"
      ]
     },
     "metadata": {},
     "output_type": "display_data"
    }
   ],
   "source": [
    "x_cell_1 = X[:,0,0,:]  # Extract the first cell of the first sample\n",
    "x_cell_1, _ = torch.sort(x_cell_1.flatten())\n",
    "\n",
    "def plot_tensor(t):\n",
    "    import scipy.stats as stats\n",
    "    import numpy as np\n",
    "\n",
    "    #plt.plot(t.numpy())\n",
    "    #plt.show()\n",
    "    plt.hist(t.numpy(), bins=100, density=True, alpha=0.6, color='b')\n",
    "    xmin, xmax = plt.xlim()\n",
    "    x_lin = np.linspace(xmin-15, xmax+15, 100)\n",
    "    p = stats.norm.pdf(x_lin, np.mean(t.numpy()), np.std(t.numpy()))\n",
    "    plt.plot(x_lin, p, 'k', linewidth=2)\n",
    "    title = \"Fit results: mu = %.2f,  std = %.2f\" % (np.mean(t.numpy()), np.std(t.numpy()))\n",
    "    plt.title(title)\n",
    "    plt.show()\n",
    "\n",
    "plot_tensor(x_cell_1)"
   ]
  }
 ],
 "metadata": {
  "kernelspec": {
   "display_name": "climate",
   "language": "python",
   "name": "python3"
  },
  "language_info": {
   "codemirror_mode": {
    "name": "ipython",
    "version": 3
   },
   "file_extension": ".py",
   "mimetype": "text/x-python",
   "name": "python",
   "nbconvert_exporter": "python",
   "pygments_lexer": "ipython3",
   "version": "3.11.8"
  }
 },
 "nbformat": 4,
 "nbformat_minor": 2
}
